{
 "cells": [
  {
   "cell_type": "code",
   "execution_count": null,
   "id": "e118ae6d",
   "metadata": {},
   "outputs": [
    {
     "ename": "",
     "evalue": "",
     "output_type": "error",
     "traceback": [
      "\u001b[1;31mFailed to start the Kernel. \n",
      "\u001b[1;31mUnable to start Kernel 'Python 3.11.6' due to a timeout waiting for the ports to get used. \n",
      "\u001b[1;31mView Jupyter <a href='command:jupyter.viewOutput'>log</a> for further details."
     ]
    }
   ],
   "source": [
    "import pandas as pd\n",
    "import os"
   ]
  },
  {
   "cell_type": "code",
   "execution_count": null,
   "id": "0484b9e3",
   "metadata": {},
   "outputs": [
    {
     "ename": "",
     "evalue": "",
     "output_type": "error",
     "traceback": [
      "\u001b[1;31mFailed to start the Kernel. \n",
      "\u001b[1;31mUnable to start Kernel 'Python 3.11.6' due to a timeout waiting for the ports to get used. \n",
      "\u001b[1;31mView Jupyter <a href='command:jupyter.viewOutput'>log</a> for further details."
     ]
    }
   ],
   "source": [
    "# Read data from CSV files\n",
    "data_2019 = pd.read_csv('all_data.csv')\n",
    "data_2020 = pd.read_csv('all_data2.csv')\n",
    "data_2021 = pd.read_csv('all_data3.csv')"
   ]
  },
  {
   "cell_type": "code",
   "execution_count": null,
   "id": "4ca0728c",
   "metadata": {},
   "outputs": [
    {
     "ename": "",
     "evalue": "",
     "output_type": "error",
     "traceback": [
      "\u001b[1;31mFailed to start the Kernel. \n",
      "\u001b[1;31mUnable to start Kernel 'Python 3.11.6' due to a timeout waiting for the ports to get used. \n",
      "\u001b[1;31mView Jupyter <a href='command:jupyter.viewOutput'>log</a> for further details."
     ]
    }
   ],
   "source": [
    "# Combine data from all three years\n",
    "combined_data = pd.concat([data_2019, data_2020, data_2021], ignore_index=True)\n"
   ]
  },
  {
   "cell_type": "code",
   "execution_count": null,
   "id": "5bac9b24",
   "metadata": {},
   "outputs": [
    {
     "ename": "",
     "evalue": "",
     "output_type": "error",
     "traceback": [
      "\u001b[1;31mFailed to start the Kernel. \n",
      "\u001b[1;31mUnable to start Kernel 'Python 3.11.6' due to a timeout waiting for the ports to get used. \n",
      "\u001b[1;31mView Jupyter <a href='command:jupyter.viewOutput'>log</a> for further details."
     ]
    }
   ],
   "source": [
    "# Basic statistics for each year\n",
    "statistics_2019 = data_2019.describe()\n",
    "statistics_2020 = data_2020.describe()\n",
    "statistics_2021 = data_2021.describe()\n"
   ]
  },
  {
   "cell_type": "code",
   "execution_count": null,
   "id": "50580f56",
   "metadata": {},
   "outputs": [
    {
     "ename": "",
     "evalue": "",
     "output_type": "error",
     "traceback": [
      "\u001b[1;31mFailed to start the Kernel. \n",
      "\u001b[1;31mUnable to start Kernel 'Python 3.11.6' due to a timeout waiting for the ports to get used. \n",
      "\u001b[1;31mView Jupyter <a href='command:jupyter.viewOutput'>log</a> for further details."
     ]
    }
   ],
   "source": [
    "# Total sales for each year\n",
    "total_sales_2019 = data_2019['Sales'].sum()\n",
    "total_sales_2020 = data_2020['Sales'].sum()\n",
    "total_sales_2021 = data_2021['Sales'].sum()\n",
    "\n",
    "# Average sales per month for each year\n",
    "average_sales_per_month_2019 = data_2019.groupby('Month')['Sales'].mean()\n",
    "average_sales_per_month_2020 = data_2020.groupby('Month')['Sales'].mean()\n",
    "average_sales_per_month_2021 = data_2021.groupby('Month')['Sales'].mean()\n"
   ]
  },
  {
   "cell_type": "code",
   "execution_count": null,
   "id": "eeca5d41",
   "metadata": {},
   "outputs": [
    {
     "ename": "",
     "evalue": "",
     "output_type": "error",
     "traceback": [
      "\u001b[1;31mFailed to start the Kernel. \n",
      "\u001b[1;31mUnable to start Kernel 'Python 3.11.6' due to a timeout waiting for the ports to get used. \n",
      "\u001b[1;31mView Jupyter <a href='command:jupyter.viewOutput'>log</a> for further details."
     ]
    }
   ],
   "source": [
    "import matplotlib.pyplot as plt\n",
    "\n",
    "# Example: Plotting total sales for each year\n",
    "years = ['2019', '2020', '2021']\n",
    "total_sales = [total_sales_2019, total_sales_2020, total_sales_2021]\n",
    "\n",
    "plt.bar(years, total_sales)\n",
    "plt.xlabel('Year')\n",
    "plt.ylabel('Total Sales')\n",
    "plt.title('Total Sales for Each Year')\n",
    "plt.show()\n"
   ]
  },
  {
   "cell_type": "markdown",
   "id": "29e16aef",
   "metadata": {},
   "source": [
    "### Year-over-Year (YoY) Growth Percentage:"
   ]
  },
  {
   "cell_type": "code",
   "execution_count": null,
   "id": "4e9ab593",
   "metadata": {},
   "outputs": [
    {
     "ename": "",
     "evalue": "",
     "output_type": "error",
     "traceback": [
      "\u001b[1;31mFailed to start the Kernel. \n",
      "\u001b[1;31mUnable to start Kernel 'Python 3.11.6' due to a timeout waiting for the ports to get used. \n",
      "\u001b[1;31mView Jupyter <a href='command:jupyter.viewOutput'>log</a> for further details."
     ]
    }
   ],
   "source": [
    "# Assuming you have total sales data for each year: total_sales_2019, total_sales_2020, total_sales_2021\n",
    "\n",
    "# YoY Growth from 2019 to 2020\n",
    "yoy_growth_2019_to_2020 = ((total_sales_2020 - total_sales_2019) / total_sales_2019) * 100\n",
    "\n",
    "# YoY Growth from 2020 to 2021\n",
    "yoy_growth_2020_to_2021 = ((total_sales_2021 - total_sales_2020) / total_sales_2020) * 100\n",
    "\n",
    "print(f'YoY Growth from 2019 to 2020: {yoy_growth_2019_to_2020:.2f}%')\n",
    "print(f'YoY Growth from 2020 to 2021: {yoy_growth_2020_to_2021:.2f}%')\n",
    "\n"
   ]
  },
  {
   "cell_type": "markdown",
   "id": "e348dd3c",
   "metadata": {},
   "source": [
    "### Year over Year(YoY) Change in average sales:"
   ]
  },
  {
   "cell_type": "code",
   "execution_count": null,
   "id": "e04f800d",
   "metadata": {},
   "outputs": [
    {
     "ename": "",
     "evalue": "",
     "output_type": "error",
     "traceback": [
      "\u001b[1;31mFailed to start the Kernel. \n",
      "\u001b[1;31mUnable to start Kernel 'Python 3.11.6' due to a timeout waiting for the ports to get used. \n",
      "\u001b[1;31mView Jupyter <a href='command:jupyter.viewOutput'>log</a> for further details."
     ]
    }
   ],
   "source": [
    "# Assuming you have average sales data for each year: average_sales_per_month_2019, average_sales_per_month_2020, average_sales_per_month_2021\n",
    "\n",
    "# YoY Change in Average Sales from 2019 to 2020\n",
    "yoy_change_avg_sales_2019_to_2020 = average_sales_per_month_2020.mean() - average_sales_per_month_2019.mean()\n",
    "\n",
    "# YoY Change in Average Sales from 2020 to 2021\n",
    "yoy_change_avg_sales_2020_to_2021 = average_sales_per_month_2021.mean() - average_sales_per_month_2020.mean()\n",
    "\n",
    "print(f'YoY Change in Average Sales from 2019 to 2020: {yoy_change_avg_sales_2019_to_2020:.2f}')\n",
    "print(f'YoY Change in Average Sales from 2020 to 2021: {yoy_change_avg_sales_2020_to_2021:.2f}')\n"
   ]
  },
  {
   "cell_type": "code",
   "execution_count": null,
   "id": "6f928360",
   "metadata": {},
   "outputs": [
    {
     "ename": "",
     "evalue": "",
     "output_type": "error",
     "traceback": [
      "\u001b[1;31mFailed to start the Kernel. \n",
      "\u001b[1;31mUnable to start Kernel 'Python 3.11.6' due to a timeout waiting for the ports to get used. \n",
      "\u001b[1;31mView Jupyter <a href='command:jupyter.viewOutput'>log</a> for further details."
     ]
    }
   ],
   "source": []
  },
  {
   "cell_type": "code",
   "execution_count": null,
   "id": "2ef4d727",
   "metadata": {},
   "outputs": [
    {
     "ename": "",
     "evalue": "",
     "output_type": "error",
     "traceback": [
      "\u001b[1;31mFailed to start the Kernel. \n",
      "\u001b[1;31mUnable to start Kernel 'Python 3.11.6' due to a timeout waiting for the ports to get used. \n",
      "\u001b[1;31mView Jupyter <a href='command:jupyter.viewOutput'>log</a> for further details."
     ]
    }
   ],
   "source": []
  },
  {
   "cell_type": "code",
   "execution_count": null,
   "id": "47035ece",
   "metadata": {},
   "outputs": [
    {
     "ename": "",
     "evalue": "",
     "output_type": "error",
     "traceback": [
      "\u001b[1;31mFailed to start the Kernel. \n",
      "\u001b[1;31mUnable to start Kernel 'Python 3.11.6' due to a timeout waiting for the ports to get used. \n",
      "\u001b[1;31mView Jupyter <a href='command:jupyter.viewOutput'>log</a> for further details."
     ]
    }
   ],
   "source": []
  }
 ],
 "metadata": {
  "kernelspec": {
   "display_name": "Python 3 (ipykernel)",
   "language": "python",
   "name": "python3"
  },
  "language_info": {
   "codemirror_mode": {
    "name": "ipython",
    "version": 3
   },
   "file_extension": ".py",
   "mimetype": "text/x-python",
   "name": "python",
   "nbconvert_exporter": "python",
   "pygments_lexer": "ipython3",
   "version": "3.11.6"
  }
 },
 "nbformat": 4,
 "nbformat_minor": 5
}
